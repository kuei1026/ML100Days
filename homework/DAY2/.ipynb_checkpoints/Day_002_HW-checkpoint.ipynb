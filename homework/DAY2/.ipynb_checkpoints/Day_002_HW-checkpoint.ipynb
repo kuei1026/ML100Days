{
 "cells": [
  {
   "cell_type": "markdown",
   "metadata": {},
   "source": [
    "## [作業目標]\n",
    "了解機器學習適合應用的領域與範疇。"
   ]
  },
  {
   "cell_type": "markdown",
   "metadata": {},
   "source": [
    "## [作業重點]\n",
    "透過瞭解機器學習的運作方式，找出非常適用機器學習應用的領域及其原因"
   ]
  },
  {
   "cell_type": "markdown",
   "metadata": {},
   "source": [
    "## 作業\n",
    "請找出一個你認為機器學習可以發光發熱的領域並闡述原因? "
   ]
  },
  {
   "cell_type": "code",
   "execution_count": null,
   "metadata": {},
   "outputs": [],
   "source": [
    "   我認為未來在自動化駕駛這一塊機器學習是可以做到非常好的，通過大量的訓練可以讓車子去自動判斷，來達到自駕車的效果，\n",
    "雖然好像會有圖像判斷失誤的情況發生，但只要克服了便是人類的一大福音，可以避免掉許多發生的車禍，精確度來說可能需要做\n",
    "到百分之百這樣才能讓大家都放心，因為一旦發生失誤那將會是一場大災難，期許機器學習能在這一個領域達到一定的高度。\n",
    "    "
   ]
  }
 ],
 "metadata": {
  "kernelspec": {
   "display_name": "Python 3",
   "language": "python",
   "name": "python3"
  },
  "language_info": {
   "codemirror_mode": {
    "name": "ipython",
    "version": 3
   },
   "file_extension": ".py",
   "mimetype": "text/x-python",
   "name": "python",
   "nbconvert_exporter": "python",
   "pygments_lexer": "ipython3",
   "version": "3.7.6"
  }
 },
 "nbformat": 4,
 "nbformat_minor": 2
}
